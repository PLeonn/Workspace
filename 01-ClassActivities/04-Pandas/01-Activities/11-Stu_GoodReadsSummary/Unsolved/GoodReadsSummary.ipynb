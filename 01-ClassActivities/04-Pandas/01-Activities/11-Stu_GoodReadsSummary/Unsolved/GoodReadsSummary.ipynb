{
 "cells": [
  {
   "cell_type": "code",
   "execution_count": null,
   "metadata": {},
   "outputs": [],
   "source": [
    "# Import Dependencies\n",
    "import pandas as pd\n",
    "import os"
   ]
  },
  {
   "cell_type": "code",
   "execution_count": null,
   "metadata": {},
   "outputs": [],
   "source": [
    "# File to Load\n",
    "csvpath = os.path.join(\"..\",\"..\",\"10-Stu_GoodReads\",\"Unsolved\",\"Output\",\"renamedCrop.csv\")\n",
    "# Read the modified GoodReads csv and store into Pandas DataFrame\n",
    "modGoodReads = pd.read_csv(csvpath)\n",
    "modGoodReads.head()"
   ]
  },
  {
   "cell_type": "code",
   "execution_count": null,
   "metadata": {},
   "outputs": [],
   "source": [
    "# Calculate the number of unique authors in the DataFrame\n",
    "uniqueAuthors = modGoodReads[\"authors\"].value_counts()\n",
    "uniqueAuthors\n"
   ]
  },
  {
   "cell_type": "code",
   "execution_count": null,
   "metadata": {},
   "outputs": [],
   "source": [
    "# Calculate the earliest/latest year a book was published\n",
    "earliest = modGoodReads[\"original_publication_year\"].min()\n",
    "latest = modGoodReads[\"original_publication_year\"].max()\n",
    "\n",
    "earliest\n",
    "latest\n",
    "\n",
    "# Calculate the total reviews for the entire dataset\n",
    "# Hint: use the pandas' sum() method to get the sum for each row\n",
    "totalReviews = modGoodReads[[\"1 Star Ratings\",\"2 Star Ratings\",\"3 Star Ratings\",\"4 Star Ratings\",\"5 Star Ratings\",]].sum(axis=1)\n",
    "totalReviews.sum(axis=0)\n",
    "\n"
   ]
  },
  {
   "cell_type": "code",
   "execution_count": null,
   "metadata": {
    "scrolled": false
   },
   "outputs": [],
   "source": [
    "# Place all of the data found into a summary DataFrame\n",
    "newDF = pd.DataFrame([{\"Unique authors\":len(uniqueAuthors),\"Earliest year\":earliest,\"Latest year\":latest,\"Total reviews\":totalReviews.sum(axis=0)}])\n",
    "newDF.head()"
   ]
  },
  {
   "cell_type": "code",
   "execution_count": null,
   "metadata": {},
   "outputs": [],
   "source": []
  },
  {
   "cell_type": "code",
   "execution_count": null,
   "metadata": {},
   "outputs": [],
   "source": []
  },
  {
   "cell_type": "code",
   "execution_count": null,
   "metadata": {},
   "outputs": [],
   "source": []
  },
  {
   "cell_type": "code",
   "execution_count": null,
   "metadata": {},
   "outputs": [],
   "source": []
  },
  {
   "cell_type": "code",
   "execution_count": null,
   "metadata": {},
   "outputs": [],
   "source": []
  },
  {
   "cell_type": "code",
   "execution_count": null,
   "metadata": {},
   "outputs": [],
   "source": []
  }
 ],
 "metadata": {
  "kernelspec": {
   "display_name": "Python 3",
   "language": "python",
   "name": "python3"
  },
  "language_info": {
   "codemirror_mode": {
    "name": "ipython",
    "version": 3
   },
   "file_extension": ".py",
   "mimetype": "text/x-python",
   "name": "python",
   "nbconvert_exporter": "python",
   "pygments_lexer": "ipython3",
   "version": "3.7.6"
  }
 },
 "nbformat": 4,
 "nbformat_minor": 2
}
